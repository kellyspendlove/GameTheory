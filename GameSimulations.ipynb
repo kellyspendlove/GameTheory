{
 "cells": [
  {
   "cell_type": "code",
   "execution_count": 1,
   "metadata": {},
   "outputs": [],
   "source": [
    "#Notebook to run some computations of 2 Player Experience Weighted Attraction, MWU"
   ]
  },
  {
   "cell_type": "code",
   "execution_count": 2,
   "metadata": {},
   "outputs": [],
   "source": [
    "import numpy as np\n",
    "import math\n",
    "import matplotlib.pyplot as plt\n",
    "import matplotlib.cm as cm\n"
   ]
  },
  {
   "cell_type": "code",
   "execution_count": 32,
   "metadata": {},
   "outputs": [
    {
     "data": {
      "text/plain": [
       "0.9999546000702375"
      ]
     },
     "execution_count": 32,
     "metadata": {},
     "output_type": "execute_result"
    }
   ],
   "source": [
    "a = 0.18\n",
    "b = 1.41\n",
    "r = -1.0\n",
    "c = -10\n",
    "eps = .5\n",
    "1.0 - math.exp(c)"
   ]
  },
  {
   "cell_type": "code",
   "execution_count": 50,
   "metadata": {},
   "outputs": [],
   "source": [
    "A = np.array([[1.0, r],\n",
    "             [r, 1.0]])\n",
    "\n",
    "B = np.array([[r, 1.0],\n",
    "             [1.0, r]])"
   ]
  },
  {
   "cell_type": "code",
   "execution_count": 51,
   "metadata": {},
   "outputs": [],
   "source": [
    "# #Payoffs from PNAS paper for chaos\n",
    "# A = np.array([[0.0, 0.5],\n",
    "#              [6.0, -9.0]])\n",
    "\n",
    "# B = np.array([[0.0, 0.45],\n",
    "#              [6.0, -9.0]])"
   ]
  },
  {
   "cell_type": "code",
   "execution_count": 52,
   "metadata": {},
   "outputs": [],
   "source": [
    "def getConstants( A,B ):\n",
    "    a,b,c,d = A[0,0], A[0,1], A[1,0], A[1,1]\n",
    "    e,g,f,h = B[0,0], B[0,1], B[1,0], B[1,1]\n",
    "    return [1/4*(a+d-b-c), 1/4*(a+b-c-d), 1/4*(e+h-f-g), 1/4*(e+f-g-h)]"
   ]
  },
  {
   "cell_type": "code",
   "execution_count": 53,
   "metadata": {},
   "outputs": [
    {
     "data": {
      "text/plain": [
       "[1.0, 0.0, -1.0, 0.0]"
      ]
     },
     "execution_count": 53,
     "metadata": {},
     "output_type": "execute_result"
    }
   ],
   "source": [
    "getConstants(A,B)"
   ]
  },
  {
   "cell_type": "code",
   "execution_count": 54,
   "metadata": {},
   "outputs": [
    {
     "data": {
      "text/plain": [
       "(array([[ 1., -1.],\n",
       "        [-1.,  1.]]),\n",
       " array([[-1.,  1.],\n",
       "        [ 1., -1.]]))"
      ]
     },
     "execution_count": 54,
     "metadata": {},
     "output_type": "execute_result"
    }
   ],
   "source": [
    "A,B"
   ]
  },
  {
   "cell_type": "code",
   "execution_count": 55,
   "metadata": {},
   "outputs": [],
   "source": [
    "e0 = np.array([1, 0])\n",
    "e1 = np.array([0, 1])"
   ]
  },
  {
   "cell_type": "code",
   "execution_count": 56,
   "metadata": {},
   "outputs": [],
   "source": [
    "#Learning dynamics\n",
    "def EWA(X, a=.18, b=1.41):\n",
    "    x,y = X\n",
    "    x1, y1 = 1.0-x, 1.0-y\n",
    "    Ay = np.matmul(A, np.array([y, y1]))\n",
    "    Bx = np.matmul(B, np.array([x, x1]))\n",
    "    #Update x\n",
    "    XNum = math.pow(x, 1.0-a)*math.exp(b*np.matmul(e0,Ay))\n",
    "    XDenom = XNum + math.pow(x1,1.0-a)*math.exp(b*np.matmul(e1,Ay))\n",
    "    #Update y\n",
    "    YNum = math.pow(y, 1.0-a)*math.exp(b*np.matmul(e0,Bx))\n",
    "    YDenom = YNum + math.pow(y1,1.0-a)*math.exp(b*np.matmul(e1,Bx))\n",
    "    return [XNum / XDenom, YNum / YDenom]\n",
    "def EWA_Alt(X, a=.18, b=1.41):\n",
    "    x,y = X\n",
    "    x1, y1 = 1.0-x, 1.0-y\n",
    "    Ay = np.matmul(A, np.array([y, y1]))\n",
    "    #Update x\n",
    "    XNum = math.pow(x, 1.0-a)*math.exp(b*np.matmul(e0,Ay))\n",
    "    XDenom = XNum + math.pow(x1,1.0-a)*math.exp(b*np.matmul(e1,Ay))\n",
    "    #Update y\n",
    "    fx0 = XNum / XDenom\n",
    "    fx1 = 1.0 - fx0\n",
    "    Bx = np.matmul(B, np.array([fx0, fx1]))\n",
    "    YNum = math.pow(y, 1.0-a)*math.exp(b*np.matmul(e0,Bx))\n",
    "    YDenom = YNum + math.pow(y1,1.0-a)*math.exp(b*np.matmul(e1,Bx))\n",
    "    fy0 = YNum / YDenom\n",
    "    return [fx0, fy0]\n",
    "#Linear MWU\n",
    "def MWU_Linear ( X, eps=.5 ):\n",
    "    x0,y0 = X\n",
    "    x1, y1 = 1.0-x0, 1.0-y0\n",
    "    Ay = np.matmul(A, np.array([y0, y1]))\n",
    "    Bx = np.matmul(B, np.array([x0, x1]))\n",
    "    XNum = 1.0 - eps*np.matmul(e0, Ay)\n",
    "    XDenom = 1.0 - eps*np.matmul(np.array([x0,x1]), Ay)\n",
    "    YNum = 1.0 - eps*np.matmul(e0, Bx)\n",
    "    YDenom = 1.0 - eps*np.matmul(np.array([y0,y1]), Bx)\n",
    "    return [x0*(XNum / XDenom), y0*(YNum/YDenom)]\n",
    "def MWU ( X, c = -10 ):\n",
    "    #  x0*(1-eps)^c(1) / (x0*(1-eps^c(1) + x1*(1-eps)^c(2))) \n",
    "    x0,y0 = X\n",
    "    x1, y1 = 1.0-x0, 1.0-y0\n",
    "    Ay = np.matmul(A, np.array([y0, y1]))\n",
    "    Bx = np.matmul(B, np.array([x0, x1]))\n",
    "    #Update x\n",
    "    XNum = x0 * math.exp(c*np.matmul(e0, Ay))\n",
    "    XDenom = XNum + x1 * math.exp(c*np.matmul(e1, Ay))\n",
    "    #Update y\n",
    "    YNum = y0 * math.exp(c*np.matmul(e0, Bx))\n",
    "    YDenom = YNum + y1 * math.exp(c*np.matmul(e1, Bx))\n",
    "    return [XNum / XDenom, YNum / YDenom]\n",
    "#Alternating MWU\n",
    "def MWU_Alt ( X, c=-10 ):\n",
    "    x0,y0 = X\n",
    "    x1, y1 = 1.0-x0, 1.0-y0\n",
    "    #Update x\n",
    "    Ay = np.matmul(A, np.array([y0, y1]))\n",
    "    XNum = x0 * math.exp(c*np.matmul(e0, Ay))\n",
    "    XDenom = XNum + x1 * math.exp(c*np.matmul(e1, Ay))\n",
    "    fx0 = XNum / XDenom\n",
    "    fx1 = 1.0 - fx0\n",
    "    #Update y\n",
    "    Bfx = np.matmul(B, np.array([fx0, fx1]))\n",
    "    YNum = y0 * math.exp(c*np.matmul(e0, Bfx))\n",
    "    YDenom = YNum + y1 * math.exp(c*np.matmul(e1, Bfx))\n",
    "    return [fx0, YNum / YDenom]\n",
    "def EWA_Interpolate(X, gamma=0.0, a=.18, b=1.41):\n",
    "    x,y = X\n",
    "    x1, y1 = 1.0-x, 1.0-y\n",
    "    Ay = np.matmul(A, np.array([y, y1]))\n",
    "    Bx = np.matmul(B, np.array([x, x1]))\n",
    "    #Update x\n",
    "    XNum = math.pow(x, 1.0-a)\n",
    "    XDenom = XNum + math.pow(x1,1.0-a)*math.exp(b*np.matmul(e1-e0,Ay))\n",
    "    #Update y\n",
    "    fx0 = XNum / XDenom\n",
    "    fx1 = 1.0 - fx0\n",
    "    Bfx = np.matmul(B, np.array([fx0, fx1]))\n",
    "    Bgamma = (1.0-gamma)*Bx + gamma*Bfx\n",
    "    YNum = math.pow(y, 1.0-a)\n",
    "    YDenom = YNum + math.pow(y1,1.0-a)*math.exp(b*np.matmul(e1-e0,Bgamma))\n",
    "    fy0 = YNum / YDenom\n",
    "    return [fx0, fy0]"
   ]
  },
  {
   "cell_type": "code",
   "execution_count": 58,
   "metadata": {},
   "outputs": [],
   "source": [
    "a = 0.18\n",
    "b = 1.41\n",
    "gamma = 1.0\n",
    "N = 100"
   ]
  },
  {
   "cell_type": "code",
   "execution_count": 59,
   "metadata": {},
   "outputs": [],
   "source": [
    "init = [.3,.3]\n",
    "traj = [init]\n",
    "X = init\n",
    "for i in range(0,N):\n",
    "    X = EWA(X,a,b)\n",
    "    traj . append ( X )"
   ]
  },
  {
   "cell_type": "code",
   "execution_count": 60,
   "metadata": {},
   "outputs": [],
   "source": [
    "init = [.7,.9]\n",
    "traj1 = [init]\n",
    "X = init\n",
    "for i in range(0,N):\n",
    "    X = EWA_Alt(X,a,b)\n",
    "    traj1 . append ( X )"
   ]
  },
  {
   "cell_type": "code",
   "execution_count": 61,
   "metadata": {},
   "outputs": [],
   "source": [
    "# init = [.3,.3]\n",
    "# traj = [init]\n",
    "# X = init\n",
    "# for i in range(0,1000):\n",
    "#     X = EWA_Alt(X,0.0,-0.6)\n",
    "#     traj . append ( X )"
   ]
  },
  {
   "cell_type": "code",
   "execution_count": 62,
   "metadata": {},
   "outputs": [],
   "source": [
    "# init = [.3,.3]\n",
    "# traj = [init]\n",
    "# X = init\n",
    "# for i in range(0,1000):\n",
    "#     X = MWU_Alt(X,-.25)\n",
    "#     traj . append ( X )"
   ]
  },
  {
   "cell_type": "code",
   "execution_count": 63,
   "metadata": {},
   "outputs": [],
   "source": [
    "#traj = traj[-1000:]"
   ]
  },
  {
   "cell_type": "code",
   "execution_count": 64,
   "metadata": {},
   "outputs": [],
   "source": [
    "x,y = zip(*traj)"
   ]
  },
  {
   "cell_type": "code",
   "execution_count": 65,
   "metadata": {},
   "outputs": [],
   "source": [
    "x1,y1 = zip(*traj1)"
   ]
  },
  {
   "cell_type": "code",
   "execution_count": 66,
   "metadata": {},
   "outputs": [
    {
     "data": {
      "text/plain": [
       "<matplotlib.collections.PathCollection at 0x7fb0f8fd9b90>"
      ]
     },
     "execution_count": 66,
     "metadata": {},
     "output_type": "execute_result"
    },
    {
     "data": {
      "image/png": "[encoded data removed]",
      "text/plain": [
       "<Figure size 432x288 with 1 Axes>"
      ]
     },
     "metadata": {
      "needs_background": "light"
     },
     "output_type": "display_data"
    }
   ],
   "source": [
    "plt.xlim(0, 1)\n",
    "plt.ylim(0, 1)\n",
    "plt.scatter(x,y)\n",
    "plt.scatter(x1,y1)"
   ]
  },
  {
   "cell_type": "code",
   "execution_count": 71,
   "metadata": {},
   "outputs": [
    {
     "data": {
      "text/plain": [
       "[<matplotlib.lines.Line2D at 0x7fb0f9417390>,\n",
       " <matplotlib.lines.Line2D at 0x7fb0f9417fd0>]"
      ]
     },
     "execution_count": 71,
     "metadata": {},
     "output_type": "execute_result"
    },
    {
     "data": {
      "image/png": "[encoded data removed]",
      "text/plain": [
       "<Figure size 432x288 with 1 Axes>"
      ]
     },
     "metadata": {
      "needs_background": "light"
     },
     "output_type": "display_data"
    }
   ],
   "source": [
    "plt.plot(x, 'b', y, 'r')"
   ]
  },
  {
   "cell_type": "code",
   "execution_count": 21,
   "metadata": {},
   "outputs": [
    {
     "data": {
      "text/plain": [
       "<matplotlib.collections.PathCollection at 0x7fb0f8b69750>"
      ]
     },
     "execution_count": 21,
     "metadata": {},
     "output_type": "execute_result"
    },
    {
     "data": {
      "image/png": "[encoded data removed]",
      "text/plain": [
       "<Figure size 432x288 with 1 Axes>"
      ]
     },
     "metadata": {
      "needs_background": "light"
     },
     "output_type": "display_data"
    }
   ],
   "source": [
    "colors = cm.bone(np.linspace(0, 1, len(y)))\n",
    "plt.scatter(x, y, color=colors)"
   ]
  },
  {
   "cell_type": "code",
   "execution_count": 22,
   "metadata": {},
   "outputs": [],
   "source": [
    "x = np.array([.5,.5])\n",
    "Bx = np.matmul(B,x)\n",
    "\n",
    "#     XNum = math.pow(x, 1.0-a)*math.exp(b*np.matmul(e0,Ay))\n",
    "#     XDenom = XNum + math.pow(x1,1.0-a)*math.exp(b*np.matmul(e1,Ay))\n",
    "#     #Update y\n",
    "#     fx0 = XNum / XDenom\n",
    "#     fx1 = 1.0 - fx0\n",
    "#     Bx = np.matmul(B, np.array([fx0, fx1]))"
   ]
  },
  {
   "cell_type": "code",
   "execution_count": null,
   "metadata": {},
   "outputs": [],
   "source": [
    "def F(x,y, a=0.18, b=0.6):\n",
    "    XNum = math.pow(x, 1.0-a)\n",
    "    XDenom = XNum + math.pow(1-y,1.0-a)*math.exp(b*np.matmul(e1-e0,Bx))\n",
    "    return XNum / XDenom"
   ]
  },
  {
   "cell_type": "code",
   "execution_count": null,
   "metadata": {},
   "outputs": [],
   "source": [
    "def F(y, a=0.18, b=0.6):\n",
    "    YNum = math.pow(y, 1.0-a)\n",
    "    YDenom = YNum + math.pow(1-y,1.0-a)*math.exp(b*np.matmul(e1-e0,Bx))\n",
    "    return YNum / YDenom\n",
    "def G(y, a=0.18, b=0.6):\n",
    "    #Have x,y\n",
    "    #Update X\n",
    "    Bx \n",
    "    YNum = math.pow(y, 1.0-a)\n",
    "    YDenom = YNum + math.pow(1-y,1.0-a)*math.exp(b*np.matmul(e1-e0,Bx))\n",
    "    return YNum / YDenom"
   ]
  },
  {
   "cell_type": "code",
   "execution_count": null,
   "metadata": {},
   "outputs": [],
   "source": [
    "X = np.linspace(0,1,10)\n",
    "Y = [F(x) for x in X]\n",
    "X"
   ]
  },
  {
   "cell_type": "code",
   "execution_count": null,
   "metadata": {},
   "outputs": [],
   "source": [
    "plt.plot(x, 'b', y, 'r')"
   ]
  },
  {
   "cell_type": "code",
   "execution_count": null,
   "metadata": {},
   "outputs": [],
   "source": [
    "def translate(X):\n",
    "    x,y = X\n",
    "    x,y = x-0.5, y-0.5\n",
    "    return [x,y]"
   ]
  },
  {
   "cell_type": "code",
   "execution_count": null,
   "metadata": {},
   "outputs": [],
   "source": [
    "def getAngle ( X ):\n",
    "    x,y = X\n",
    "    D = math.sqrt(x**2+y**2)\n",
    "    x = x / D\n",
    "    y = y / D\n",
    "    if y >= 0.0:\n",
    "        theta = np.arccos(x)\n",
    "    else:\n",
    "        theta = np.arccos(x)+math.pi\n",
    "    return theta"
   ]
  },
  {
   "cell_type": "code",
   "execution_count": null,
   "metadata": {},
   "outputs": [],
   "source": [
    "domain = []\n",
    "for X in zip(x,y):\n",
    "    theta = getAngle(translate(X))\n",
    "    domain.append(theta)\n",
    "domain\n",
    "X = domain[:-1]\n",
    "angleMap = {}\n",
    "for (i,d) in enumerate(X):\n",
    "    angleMap[d] = domain[i+1]"
   ]
  },
  {
   "cell_type": "code",
   "execution_count": null,
   "metadata": {},
   "outputs": [],
   "source": [
    "angleMap"
   ]
  },
  {
   "cell_type": "code",
   "execution_count": null,
   "metadata": {},
   "outputs": [],
   "source": [
    "X.sort()"
   ]
  },
  {
   "cell_type": "code",
   "execution_count": null,
   "metadata": {},
   "outputs": [],
   "source": [
    "X"
   ]
  },
  {
   "cell_type": "code",
   "execution_count": null,
   "metadata": {},
   "outputs": [],
   "source": [
    "Y = []\n",
    "for x in X:\n",
    "    Y . append ( angleMap[x] )"
   ]
  },
  {
   "cell_type": "code",
   "execution_count": null,
   "metadata": {},
   "outputs": [],
   "source": [
    "plt.plot(X,Y)"
   ]
  },
  {
   "cell_type": "code",
   "execution_count": null,
   "metadata": {},
   "outputs": [],
   "source": [
    "alpha = 0.0\n",
    "beta = 0.0\n",
    "x,y = 0.0,1.0"
   ]
  },
  {
   "cell_type": "code",
   "execution_count": null,
   "metadata": {},
   "outputs": [],
   "source": [
    "EWA([x,y], alpha, beta)"
   ]
  },
  {
   "cell_type": "code",
   "execution_count": null,
   "metadata": {},
   "outputs": [],
   "source": []
  }
 ],
 "metadata": {
  "kernelspec": {
   "display_name": "Python 3",
   "language": "python",
   "name": "python3"
  },
  "language_info": {
   "codemirror_mode": {
    "name": "ipython",
    "version": 3
   },
   "file_extension": ".py",
   "mimetype": "text/x-python",
   "name": "python",
   "nbconvert_exporter": "python",
   "pygments_lexer": "ipython3",
   "version": "3.7.6"
  }
 },
 "nbformat": 4,
 "nbformat_minor": 4
}
