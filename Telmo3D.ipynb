{
 "cells": [
  {
   "cell_type": "code",
   "execution_count": null,
   "id": "aa5b6cfb",
   "metadata": {},
   "outputs": [],
   "source": [
    "import numpy as np\n",
    "import matplotlib.pyplot as plt\n",
    "import math\n",
    "\n",
    "from mpl_toolkits import mplot3d"
   ]
  },
  {
   "cell_type": "code",
   "execution_count": null,
   "id": "8990c2fa",
   "metadata": {},
   "outputs": [],
   "source": [
    "def Telmo(X, params):\n",
    "    a,b,c = params\n",
    "    x,y,z = X\n",
    "    x1,y1,z1 = 1.0-X\n",
    "    \n",
    "    xrhs = 12.0 - c + (c-14.0)*x+20.0*y-4.0*z\n",
    "    yrhs = -10.0 + 20.0*x + 4.0*y - 4.0*z\n",
    "    zrhs = 27.0 - 54.0*x + 11.0*y - 4.0*z\n",
    "    \n",
    "    XNum = math.pow(x,(1.0-a))\n",
    "    XDenom = XNum + x1**(1.0-a)*math.exp(-1.0*b*xrhs)\n",
    "    \n",
    "    YNum = math.pow(y,(1.0-a))\n",
    "    YDenom = YNum + y1**(1.0-a)*math.exp(-1.0*b*yrhs)\n",
    "    \n",
    "    ZNum = math.pow(z,(1.0-a))\n",
    "    ZDenom = ZNum + z1**(1.0-a)*math.exp(-1.0*b*zrhs)\n",
    "    \n",
    "    return np.array([XNum/XDenom, YNum/YDenom, ZNum/ZDenom])"
   ]
  },
  {
   "cell_type": "code",
   "execution_count": null,
   "id": "a1e56493",
   "metadata": {},
   "outputs": [],
   "source": [
    "params = (0.1, 0.1, 8.5)"
   ]
  },
  {
   "cell_type": "code",
   "execution_count": null,
   "id": "fa3aeb93",
   "metadata": {},
   "outputs": [],
   "source": [
    "N = 1000\n",
    "init = np.array([.4, .2, .2])\n",
    "traj = [init]\n",
    "X = init\n",
    "for i in range(0,N):\n",
    "    X = Telmo(X,params)\n",
    "    traj . append ( X )\n",
    "\n",
    "#x,y,z = zip(*traj[-100:])\n",
    "x,y,z = zip(*traj)"
   ]
  },
  {
   "cell_type": "code",
   "execution_count": null,
   "id": "a548f3dd",
   "metadata": {},
   "outputs": [],
   "source": [
    "print(x)"
   ]
  },
  {
   "cell_type": "code",
   "execution_count": null,
   "id": "f63583bb",
   "metadata": {},
   "outputs": [],
   "source": [
    "plt.plot(x, 'b', y, 'r', z, 'g');"
   ]
  },
  {
   "cell_type": "code",
   "execution_count": null,
   "id": "6f8064d7",
   "metadata": {},
   "outputs": [],
   "source": [
    "fig = plt.figure()\n",
    "ax = plt.axes(projection='3d')\n",
    "ax.set_xlim3d(0,1)\n",
    "ax.set_ylim3d(0,1)\n",
    "ax.set_zlim3d(0,1)\n",
    "# Data for a three-dimensional line\n",
    "\n",
    "ax.plot3D(x, y, z, 'gray');\n",
    "\n",
    "# # Data for three-dimensional scattered points\n",
    "# zdata = 15 * np.random.random(100)\n",
    "# xdata = np.sin(zdata) + 0.1 * np.random.randn(100)\n",
    "# ydata = np.cos(zdata) + 0.1 * np.random.randn(100)\n",
    "ax.scatter3D(x, y, z, c=z, cmap='Greens');"
   ]
  },
  {
   "cell_type": "code",
   "execution_count": null,
   "id": "03ba07bb",
   "metadata": {},
   "outputs": [],
   "source": []
  },
  {
   "cell_type": "code",
   "execution_count": null,
   "id": "13250dbf",
   "metadata": {},
   "outputs": [],
   "source": []
  },
  {
   "cell_type": "code",
   "execution_count": null,
   "id": "b27aa978",
   "metadata": {},
   "outputs": [],
   "source": []
  },
  {
   "cell_type": "code",
   "execution_count": null,
   "id": "d1fe4d51",
   "metadata": {},
   "outputs": [],
   "source": []
  },
  {
   "cell_type": "code",
   "execution_count": null,
   "id": "88b0f327",
   "metadata": {},
   "outputs": [],
   "source": []
  }
 ],
 "metadata": {
  "kernelspec": {
   "display_name": "Python 3",
   "language": "python",
   "name": "python3"
  },
  "language_info": {
   "codemirror_mode": {
    "name": "ipython",
    "version": 3
   },
   "file_extension": ".py",
   "mimetype": "text/x-python",
   "name": "python",
   "nbconvert_exporter": "python",
   "pygments_lexer": "ipython3",
   "version": "3.7.6"
  }
 },
 "nbformat": 4,
 "nbformat_minor": 5
}
