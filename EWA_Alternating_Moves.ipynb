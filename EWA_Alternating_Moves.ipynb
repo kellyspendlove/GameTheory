{
 "cells": [
  {
   "cell_type": "code",
   "execution_count": null,
   "metadata": {},
   "outputs": [],
   "source": [
    "import numpy as np\n",
    "import math\n",
    "import matplotlib.pyplot as plt\n",
    "import matplotlib.cm as cm"
   ]
  },
  {
   "cell_type": "code",
   "execution_count": 283,
   "metadata": {},
   "outputs": [],
   "source": [
    "a = 0.18\n",
    "b = 1.41\n",
    "c = 3.65\n",
    "d = 1.0"
   ]
  },
  {
   "cell_type": "code",
   "execution_count": 284,
   "metadata": {},
   "outputs": [],
   "source": [
    "e0 = np.array([1, 0])\n",
    "e1 = np.array([0, 1])"
   ]
  },
  {
   "cell_type": "code",
   "execution_count": 285,
   "metadata": {},
   "outputs": [],
   "source": [
    "A = np.array([[d, -1.0],\n",
    "             [-1.0, c]])\n",
    "\n",
    "B = np.array([[-d, 1.0],\n",
    "             [1.0, -c]])"
   ]
  },
  {
   "cell_type": "code",
   "execution_count": 286,
   "metadata": {},
   "outputs": [],
   "source": [
    "x0, y0 = .7, .3"
   ]
  },
  {
   "cell_type": "code",
   "execution_count": 287,
   "metadata": {},
   "outputs": [],
   "source": [
    "def EWA_Alt_Hardcode(X, a=.18, b=1.41):\n",
    "    x0,y0 = X\n",
    "    x1, y1 = 1.0-x0, 1.0-y0\n",
    "    Y = np.array([y0, y1])\n",
    "    Ay0 = d*y0-y1\n",
    "    Ay1 = -y0+c*y1\n",
    "    #Update x\n",
    "    XNum = math.pow(x0, 1.0-a)\n",
    "    XDenom = XNum + math.pow(x1,1.0-a)*math.exp(b*(Ay1-Ay0))\n",
    "    #Update y\n",
    "    fx0 = XNum / XDenom\n",
    "    fx1 = 1.0 - fx0\n",
    "    \n",
    "    Bx0 = -d*fx0+fx1\n",
    "    Bx1 = fx0-c*fx1\n",
    "    YNum = math.pow(y0, 1.0-a)\n",
    "    YDenom = YNum + math.pow(y1,1.0-a)*math.exp(b*(Bx1-Bx0))\n",
    "    fy0 = YNum / YDenom\n",
    "    return [fx0, fy0]"
   ]
  },
  {
   "cell_type": "code",
   "execution_count": 288,
   "metadata": {},
   "outputs": [],
   "source": [
    "def EWA_Alternating(X, a=.18, b=1.41):\n",
    "    x0,y0 = X\n",
    "    x1, y1 = 1.0-x0, 1.0-y0\n",
    "    Y = np.array([y0, y1])\n",
    "    #Update x\n",
    "    XNum = math.pow(x0, 1.0-a)\n",
    "    XDenom = XNum + math.pow(x1,1.0-a)*math.exp(b*(np.dot(e1, np.dot(A, Y))-np.dot(e0,np.dot(A,Y))))\n",
    "    #Update y\n",
    "    fx0 = XNum / XDenom\n",
    "    fx1 = 1.0 - fx0\n",
    "    \n",
    "    FX = np.array([fx0, fx1])\n",
    "    YNum = math.pow(y0, 1.0-a)\n",
    "    YDenom = YNum + math.pow(y1,1.0-a)*math.exp(b*(np.dot(e1,np.dot(B,FX))-np.dot(e0,np.dot(B,FX))))\n",
    "    fy0 = YNum / YDenom\n",
    "    return [fx0, fy0]"
   ]
  },
  {
   "cell_type": "code",
   "execution_count": 289,
   "metadata": {},
   "outputs": [],
   "source": [
    "def EWA_Alt(X, a=.18, b=1.41):\n",
    "    x0,y0 = X\n",
    "    x1, y1 = 1.0-x0, 1.0-y0\n",
    "    a11, a12, a21, a22 = d, -1.0, -1.0, c\n",
    "    b11, b12, b21, b22 = -d, 1.0, 1.0, -c\n",
    "    Ay0 = a11*y0+a12*y1\n",
    "    Ay1 = a21*y0+a22*y1\n",
    "    #Update x\n",
    "    XNum = math.pow(x0, 1.0-a)\n",
    "    XDenom = XNum + math.pow(x1,1.0-a)*math.exp(b*(Ay1-Ay0))\n",
    "    #Update y\n",
    "    fx0 = XNum / XDenom\n",
    "    \n",
    "    fx1 = 1.0 - fx0\n",
    "    Bx0 = b11*fx0+b12*fx1\n",
    "    Bx1 = b21*fx0+b22*fx1\n",
    "    YNum = math.pow(y0, 1.0-a)\n",
    "    YDenom = YNum + math.pow(y1,1.0-a)*math.exp(b*(Bx1-Bx0))\n",
    "    fy0 = YNum / YDenom\n",
    "    return [fx0, fy0]"
   ]
  },
  {
   "cell_type": "code",
   "execution_count": 290,
   "metadata": {},
   "outputs": [],
   "source": [
    "N = 1000"
   ]
  },
  {
   "cell_type": "code",
   "execution_count": 291,
   "metadata": {},
   "outputs": [],
   "source": [
    "init = [.3,.3]\n",
    "traj = [init]\n",
    "X = init\n",
    "for i in range(0,N):\n",
    "    X = EWA_Alt(X,a,b)\n",
    "    traj . append ( X )\n",
    "traj = traj[800:]"
   ]
  },
  {
   "cell_type": "code",
   "execution_count": 292,
   "metadata": {},
   "outputs": [],
   "source": [
    "# init = [.3,.3]\n",
    "# traj1 = [init]\n",
    "# X = init\n",
    "# for i in range(0,N):\n",
    "#     X = EWA_Alt(X,a,b)\n",
    "#     traj1 . append ( X )\n",
    "# traj1 = traj1[100:]"
   ]
  },
  {
   "cell_type": "code",
   "execution_count": 293,
   "metadata": {},
   "outputs": [],
   "source": [
    "x,y = zip(*traj)"
   ]
  },
  {
   "cell_type": "code",
   "execution_count": 294,
   "metadata": {},
   "outputs": [],
   "source": [
    "#x1,y1 = zip(*traj1)"
   ]
  },
  {
   "cell_type": "code",
   "execution_count": 295,
   "metadata": {},
   "outputs": [
    {
     "data": {
      "text/plain": [
       "<matplotlib.collections.PathCollection at 0x7ffe90976110>"
      ]
     },
     "execution_count": 295,
     "metadata": {},
     "output_type": "execute_result"
    },
    {
     "data": {
      "image/png": "[encoded data removed]",
      "text/plain": [
       "<Figure size 432x288 with 1 Axes>"
      ]
     },
     "metadata": {
      "needs_background": "light"
     },
     "output_type": "display_data"
    }
   ],
   "source": [
    "plt.xlim(0, 1)\n",
    "plt.ylim(0, 1)\n",
    "plt.scatter(x,y)\n",
    "#plt.scatter(x1,y1)"
   ]
  },
  {
   "cell_type": "code",
   "execution_count": 296,
   "metadata": {},
   "outputs": [
    {
     "data": {
      "text/plain": [
       "[<matplotlib.lines.Line2D at 0x7ffe90c04290>]"
      ]
     },
     "execution_count": 296,
     "metadata": {},
     "output_type": "execute_result"
    },
    {
     "data": {
      "image/png": "[encoded data removed]",
      "text/plain": [
       "<Figure size 432x288 with 1 Axes>"
      ]
     },
     "metadata": {
      "needs_background": "light"
     },
     "output_type": "display_data"
    }
   ],
   "source": [
    "plt.plot(y, 'r')\n",
    "#plt.plot(x)"
   ]
  },
  {
   "cell_type": "code",
   "execution_count": 297,
   "metadata": {},
   "outputs": [
    {
     "data": {
      "text/plain": [
       "4"
      ]
     },
     "execution_count": 297,
     "metadata": {},
     "output_type": "execute_result"
    }
   ],
   "source": [
    "len(set(x))"
   ]
  },
  {
   "cell_type": "code",
   "execution_count": 298,
   "metadata": {},
   "outputs": [
    {
     "data": {
      "text/plain": [
       "4"
      ]
     },
     "execution_count": 298,
     "metadata": {},
     "output_type": "execute_result"
    }
   ],
   "source": [
    "len(set(y))"
   ]
  },
  {
   "cell_type": "code",
   "execution_count": 299,
   "metadata": {},
   "outputs": [
    {
     "data": {
      "text/plain": [
       "4"
      ]
     },
     "execution_count": 299,
     "metadata": {},
     "output_type": "execute_result"
    }
   ],
   "source": [
    "len(set(x))"
   ]
  },
  {
   "cell_type": "code",
   "execution_count": 300,
   "metadata": {},
   "outputs": [
    {
     "data": {
      "text/plain": [
       "(0.8330114534213704,\n",
       " 0.5075916670980404,\n",
       " 0.8492145929142838,\n",
       " 0.524273580877246,\n",
       " 0.8330114534213704,\n",
       " 0.5075916670980404,\n",
       " 0.8492145929142838,\n",
       " 0.524273580877246,\n",
       " 0.8330114534213704,\n",
       " 0.5075916670980404,\n",
       " 0.8492145929142838,\n",
       " 0.524273580877246,\n",
       " 0.8330114534213704,\n",
       " 0.5075916670980404,\n",
       " 0.8492145929142838,\n",
       " 0.524273580877246,\n",
       " 0.8330114534213704,\n",
       " 0.5075916670980404,\n",
       " 0.8492145929142838,\n",
       " 0.524273580877246,\n",
       " 0.8330114534213704,\n",
       " 0.5075916670980404,\n",
       " 0.8492145929142838,\n",
       " 0.524273580877246,\n",
       " 0.8330114534213704,\n",
       " 0.5075916670980404,\n",
       " 0.8492145929142838,\n",
       " 0.524273580877246,\n",
       " 0.8330114534213704,\n",
       " 0.5075916670980404,\n",
       " 0.8492145929142838,\n",
       " 0.524273580877246,\n",
       " 0.8330114534213704,\n",
       " 0.5075916670980404,\n",
       " 0.8492145929142838,\n",
       " 0.524273580877246,\n",
       " 0.8330114534213704,\n",
       " 0.5075916670980404,\n",
       " 0.8492145929142838,\n",
       " 0.524273580877246,\n",
       " 0.8330114534213704,\n",
       " 0.5075916670980404,\n",
       " 0.8492145929142838,\n",
       " 0.524273580877246,\n",
       " 0.8330114534213704,\n",
       " 0.5075916670980404,\n",
       " 0.8492145929142838,\n",
       " 0.524273580877246,\n",
       " 0.8330114534213704,\n",
       " 0.5075916670980404,\n",
       " 0.8492145929142838,\n",
       " 0.524273580877246,\n",
       " 0.8330114534213704,\n",
       " 0.5075916670980404,\n",
       " 0.8492145929142838,\n",
       " 0.524273580877246,\n",
       " 0.8330114534213704,\n",
       " 0.5075916670980404,\n",
       " 0.8492145929142838,\n",
       " 0.524273580877246,\n",
       " 0.8330114534213704,\n",
       " 0.5075916670980404,\n",
       " 0.8492145929142838,\n",
       " 0.524273580877246,\n",
       " 0.8330114534213704,\n",
       " 0.5075916670980404,\n",
       " 0.8492145929142838,\n",
       " 0.524273580877246,\n",
       " 0.8330114534213704,\n",
       " 0.5075916670980404,\n",
       " 0.8492145929142838,\n",
       " 0.524273580877246,\n",
       " 0.8330114534213704,\n",
       " 0.5075916670980404,\n",
       " 0.8492145929142838,\n",
       " 0.524273580877246,\n",
       " 0.8330114534213704,\n",
       " 0.5075916670980404,\n",
       " 0.8492145929142838,\n",
       " 0.524273580877246,\n",
       " 0.8330114534213704,\n",
       " 0.5075916670980404,\n",
       " 0.8492145929142838,\n",
       " 0.524273580877246,\n",
       " 0.8330114534213704,\n",
       " 0.5075916670980404,\n",
       " 0.8492145929142838,\n",
       " 0.524273580877246,\n",
       " 0.8330114534213704,\n",
       " 0.5075916670980404,\n",
       " 0.8492145929142838,\n",
       " 0.524273580877246,\n",
       " 0.8330114534213704,\n",
       " 0.5075916670980404,\n",
       " 0.8492145929142838,\n",
       " 0.524273580877246,\n",
       " 0.8330114534213704,\n",
       " 0.5075916670980404,\n",
       " 0.8492145929142838,\n",
       " 0.524273580877246,\n",
       " 0.8330114534213704,\n",
       " 0.5075916670980404,\n",
       " 0.8492145929142838,\n",
       " 0.524273580877246,\n",
       " 0.8330114534213704,\n",
       " 0.5075916670980404,\n",
       " 0.8492145929142838,\n",
       " 0.524273580877246,\n",
       " 0.8330114534213704,\n",
       " 0.5075916670980404,\n",
       " 0.8492145929142838,\n",
       " 0.524273580877246,\n",
       " 0.8330114534213704,\n",
       " 0.5075916670980404,\n",
       " 0.8492145929142838,\n",
       " 0.524273580877246,\n",
       " 0.8330114534213704,\n",
       " 0.5075916670980404,\n",
       " 0.8492145929142838,\n",
       " 0.524273580877246,\n",
       " 0.8330114534213704,\n",
       " 0.5075916670980404,\n",
       " 0.8492145929142838,\n",
       " 0.524273580877246,\n",
       " 0.8330114534213704,\n",
       " 0.5075916670980404,\n",
       " 0.8492145929142838,\n",
       " 0.524273580877246,\n",
       " 0.8330114534213704,\n",
       " 0.5075916670980404,\n",
       " 0.8492145929142838,\n",
       " 0.524273580877246,\n",
       " 0.8330114534213704,\n",
       " 0.5075916670980404,\n",
       " 0.8492145929142838,\n",
       " 0.524273580877246,\n",
       " 0.8330114534213704,\n",
       " 0.5075916670980404,\n",
       " 0.8492145929142838,\n",
       " 0.524273580877246,\n",
       " 0.8330114534213704,\n",
       " 0.5075916670980404,\n",
       " 0.8492145929142838,\n",
       " 0.524273580877246,\n",
       " 0.8330114534213704,\n",
       " 0.5075916670980404,\n",
       " 0.8492145929142838,\n",
       " 0.524273580877246,\n",
       " 0.8330114534213704,\n",
       " 0.5075916670980404,\n",
       " 0.8492145929142838,\n",
       " 0.524273580877246,\n",
       " 0.8330114534213704,\n",
       " 0.5075916670980404,\n",
       " 0.8492145929142838,\n",
       " 0.524273580877246,\n",
       " 0.8330114534213704,\n",
       " 0.5075916670980404,\n",
       " 0.8492145929142838,\n",
       " 0.524273580877246,\n",
       " 0.8330114534213704,\n",
       " 0.5075916670980404,\n",
       " 0.8492145929142838,\n",
       " 0.524273580877246,\n",
       " 0.8330114534213704,\n",
       " 0.5075916670980404,\n",
       " 0.8492145929142838,\n",
       " 0.524273580877246,\n",
       " 0.8330114534213704,\n",
       " 0.5075916670980404,\n",
       " 0.8492145929142838,\n",
       " 0.524273580877246,\n",
       " 0.8330114534213704,\n",
       " 0.5075916670980404,\n",
       " 0.8492145929142838,\n",
       " 0.524273580877246,\n",
       " 0.8330114534213704,\n",
       " 0.5075916670980404,\n",
       " 0.8492145929142838,\n",
       " 0.524273580877246,\n",
       " 0.8330114534213704,\n",
       " 0.5075916670980404,\n",
       " 0.8492145929142838,\n",
       " 0.524273580877246,\n",
       " 0.8330114534213704,\n",
       " 0.5075916670980404,\n",
       " 0.8492145929142838,\n",
       " 0.524273580877246,\n",
       " 0.8330114534213704,\n",
       " 0.5075916670980404,\n",
       " 0.8492145929142838,\n",
       " 0.524273580877246,\n",
       " 0.8330114534213704,\n",
       " 0.5075916670980404,\n",
       " 0.8492145929142838,\n",
       " 0.524273580877246,\n",
       " 0.8330114534213704,\n",
       " 0.5075916670980404,\n",
       " 0.8492145929142838,\n",
       " 0.524273580877246,\n",
       " 0.8330114534213704)"
      ]
     },
     "execution_count": 300,
     "metadata": {},
     "output_type": "execute_result"
    }
   ],
   "source": [
    "x"
   ]
  },
  {
   "cell_type": "code",
   "execution_count": 301,
   "metadata": {},
   "outputs": [
    {
     "data": {
      "text/plain": [
       "(0.561939831168212,\n",
       " 0.8809312271380403,\n",
       " 0.5584533929073902,\n",
       " 0.8621492223109042,\n",
       " 0.561939831168212,\n",
       " 0.8809312271380403,\n",
       " 0.5584533929073902,\n",
       " 0.8621492223109042,\n",
       " 0.561939831168212,\n",
       " 0.8809312271380403,\n",
       " 0.5584533929073902,\n",
       " 0.8621492223109042,\n",
       " 0.561939831168212,\n",
       " 0.8809312271380403,\n",
       " 0.5584533929073902,\n",
       " 0.8621492223109042,\n",
       " 0.561939831168212,\n",
       " 0.8809312271380403,\n",
       " 0.5584533929073902,\n",
       " 0.8621492223109042,\n",
       " 0.561939831168212,\n",
       " 0.8809312271380403,\n",
       " 0.5584533929073902,\n",
       " 0.8621492223109042,\n",
       " 0.561939831168212,\n",
       " 0.8809312271380403,\n",
       " 0.5584533929073902,\n",
       " 0.8621492223109042,\n",
       " 0.561939831168212,\n",
       " 0.8809312271380403,\n",
       " 0.5584533929073902,\n",
       " 0.8621492223109042,\n",
       " 0.561939831168212,\n",
       " 0.8809312271380403,\n",
       " 0.5584533929073902,\n",
       " 0.8621492223109042,\n",
       " 0.561939831168212,\n",
       " 0.8809312271380403,\n",
       " 0.5584533929073902,\n",
       " 0.8621492223109042,\n",
       " 0.561939831168212,\n",
       " 0.8809312271380403,\n",
       " 0.5584533929073902,\n",
       " 0.8621492223109042,\n",
       " 0.561939831168212,\n",
       " 0.8809312271380403,\n",
       " 0.5584533929073902,\n",
       " 0.8621492223109042,\n",
       " 0.561939831168212,\n",
       " 0.8809312271380403,\n",
       " 0.5584533929073902,\n",
       " 0.8621492223109042,\n",
       " 0.561939831168212,\n",
       " 0.8809312271380403,\n",
       " 0.5584533929073902,\n",
       " 0.8621492223109042,\n",
       " 0.561939831168212,\n",
       " 0.8809312271380403,\n",
       " 0.5584533929073902,\n",
       " 0.8621492223109042,\n",
       " 0.561939831168212,\n",
       " 0.8809312271380403,\n",
       " 0.5584533929073902,\n",
       " 0.8621492223109042,\n",
       " 0.561939831168212,\n",
       " 0.8809312271380403,\n",
       " 0.5584533929073902,\n",
       " 0.8621492223109042,\n",
       " 0.561939831168212,\n",
       " 0.8809312271380403,\n",
       " 0.5584533929073902,\n",
       " 0.8621492223109042,\n",
       " 0.561939831168212,\n",
       " 0.8809312271380403,\n",
       " 0.5584533929073902,\n",
       " 0.8621492223109042,\n",
       " 0.561939831168212,\n",
       " 0.8809312271380403,\n",
       " 0.5584533929073902,\n",
       " 0.8621492223109042,\n",
       " 0.561939831168212,\n",
       " 0.8809312271380403,\n",
       " 0.5584533929073902,\n",
       " 0.8621492223109042,\n",
       " 0.561939831168212,\n",
       " 0.8809312271380403,\n",
       " 0.5584533929073902,\n",
       " 0.8621492223109042,\n",
       " 0.561939831168212,\n",
       " 0.8809312271380403,\n",
       " 0.5584533929073902,\n",
       " 0.8621492223109042,\n",
       " 0.561939831168212,\n",
       " 0.8809312271380403,\n",
       " 0.5584533929073902,\n",
       " 0.8621492223109042,\n",
       " 0.561939831168212,\n",
       " 0.8809312271380403,\n",
       " 0.5584533929073902,\n",
       " 0.8621492223109042,\n",
       " 0.561939831168212,\n",
       " 0.8809312271380403,\n",
       " 0.5584533929073902,\n",
       " 0.8621492223109042,\n",
       " 0.561939831168212,\n",
       " 0.8809312271380403,\n",
       " 0.5584533929073902,\n",
       " 0.8621492223109042,\n",
       " 0.561939831168212,\n",
       " 0.8809312271380403,\n",
       " 0.5584533929073902,\n",
       " 0.8621492223109042,\n",
       " 0.561939831168212,\n",
       " 0.8809312271380403,\n",
       " 0.5584533929073902,\n",
       " 0.8621492223109042,\n",
       " 0.561939831168212,\n",
       " 0.8809312271380403,\n",
       " 0.5584533929073902,\n",
       " 0.8621492223109042,\n",
       " 0.561939831168212,\n",
       " 0.8809312271380403,\n",
       " 0.5584533929073902,\n",
       " 0.8621492223109042,\n",
       " 0.561939831168212,\n",
       " 0.8809312271380403,\n",
       " 0.5584533929073902,\n",
       " 0.8621492223109042,\n",
       " 0.561939831168212,\n",
       " 0.8809312271380403,\n",
       " 0.5584533929073902,\n",
       " 0.8621492223109042,\n",
       " 0.561939831168212,\n",
       " 0.8809312271380403,\n",
       " 0.5584533929073902,\n",
       " 0.8621492223109042,\n",
       " 0.561939831168212,\n",
       " 0.8809312271380403,\n",
       " 0.5584533929073902,\n",
       " 0.8621492223109042,\n",
       " 0.561939831168212,\n",
       " 0.8809312271380403,\n",
       " 0.5584533929073902,\n",
       " 0.8621492223109042,\n",
       " 0.561939831168212,\n",
       " 0.8809312271380403,\n",
       " 0.5584533929073902,\n",
       " 0.8621492223109042,\n",
       " 0.561939831168212,\n",
       " 0.8809312271380403,\n",
       " 0.5584533929073902,\n",
       " 0.8621492223109042,\n",
       " 0.561939831168212,\n",
       " 0.8809312271380403,\n",
       " 0.5584533929073902,\n",
       " 0.8621492223109042,\n",
       " 0.561939831168212,\n",
       " 0.8809312271380403,\n",
       " 0.5584533929073902,\n",
       " 0.8621492223109042,\n",
       " 0.561939831168212,\n",
       " 0.8809312271380403,\n",
       " 0.5584533929073902,\n",
       " 0.8621492223109042,\n",
       " 0.561939831168212,\n",
       " 0.8809312271380403,\n",
       " 0.5584533929073902,\n",
       " 0.8621492223109042,\n",
       " 0.561939831168212,\n",
       " 0.8809312271380403,\n",
       " 0.5584533929073902,\n",
       " 0.8621492223109042,\n",
       " 0.561939831168212,\n",
       " 0.8809312271380403,\n",
       " 0.5584533929073902,\n",
       " 0.8621492223109042,\n",
       " 0.561939831168212,\n",
       " 0.8809312271380403,\n",
       " 0.5584533929073902,\n",
       " 0.8621492223109042,\n",
       " 0.561939831168212,\n",
       " 0.8809312271380403,\n",
       " 0.5584533929073902,\n",
       " 0.8621492223109042,\n",
       " 0.561939831168212,\n",
       " 0.8809312271380403,\n",
       " 0.5584533929073902,\n",
       " 0.8621492223109042,\n",
       " 0.561939831168212,\n",
       " 0.8809312271380403,\n",
       " 0.5584533929073902,\n",
       " 0.8621492223109042,\n",
       " 0.561939831168212,\n",
       " 0.8809312271380403,\n",
       " 0.5584533929073902,\n",
       " 0.8621492223109042,\n",
       " 0.561939831168212,\n",
       " 0.8809312271380403,\n",
       " 0.5584533929073902,\n",
       " 0.8621492223109042,\n",
       " 0.561939831168212)"
      ]
     },
     "execution_count": 301,
     "metadata": {},
     "output_type": "execute_result"
    }
   ],
   "source": [
    "y"
   ]
  },
  {
   "cell_type": "code",
   "execution_count": null,
   "metadata": {},
   "outputs": [],
   "source": []
  },
  {
   "cell_type": "code",
   "execution_count": null,
   "metadata": {},
   "outputs": [],
   "source": []
  }
 ],
 "metadata": {
  "kernelspec": {
   "display_name": "Python 3",
   "language": "python",
   "name": "python3"
  },
  "language_info": {
   "codemirror_mode": {
    "name": "ipython",
    "version": 3
   },
   "file_extension": ".py",
   "mimetype": "text/x-python",
   "name": "python",
   "nbconvert_exporter": "python",
   "pygments_lexer": "ipython3",
   "version": "3.7.6"
  }
 },
 "nbformat": 4,
 "nbformat_minor": 4
}
