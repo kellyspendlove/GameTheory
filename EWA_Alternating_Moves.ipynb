{
 "cells": [
  {
   "cell_type": "code",
   "execution_count": 1,
   "metadata": {},
   "outputs": [],
   "source": [
    "import numpy as np\n",
    "import math\n",
    "import matplotlib.pyplot as plt\n",
    "import matplotlib.cm as cm"
   ]
  },
  {
   "cell_type": "code",
   "execution_count": 2,
   "metadata": {},
   "outputs": [],
   "source": [
    "a = 0.18\n",
    "b = 1.41\n",
    "c = 2.0\n",
    "d = 1.0"
   ]
  },
  {
   "cell_type": "code",
   "execution_count": 3,
   "metadata": {},
   "outputs": [],
   "source": [
    "e0 = np.array([1, 0])\n",
    "e1 = np.array([0, 1])"
   ]
  },
  {
   "cell_type": "code",
   "execution_count": 4,
   "metadata": {},
   "outputs": [],
   "source": [
    "A = np.array([[d, -1.0],\n",
    "             [-1.0, c]])\n",
    "\n",
    "B = np.array([[-d, 1.0],\n",
    "             [1.0, -c]])"
   ]
  },
  {
   "cell_type": "code",
   "execution_count": 5,
   "metadata": {},
   "outputs": [],
   "source": [
    "x0, y0 = .7, .3"
   ]
  },
  {
   "cell_type": "code",
   "execution_count": 6,
   "metadata": {},
   "outputs": [],
   "source": [
    "def EWA_Alt_Hardcode(X, a=.18, b=1.41):\n",
    "    x0,y0 = X\n",
    "    x1, y1 = 1.0-x0, 1.0-y0\n",
    "    Y = np.array([y0, y1])\n",
    "    Ay0 = d*y0-y1\n",
    "    Ay1 = -y0+c*y1\n",
    "    #Update x\n",
    "    XNum = math.pow(x0, 1.0-a)\n",
    "    XDenom = XNum + math.pow(x1,1.0-a)*math.exp(b*(Ay1-Ay0))\n",
    "    #Update y\n",
    "    fx0 = XNum / XDenom\n",
    "    fx1 = 1.0 - fx0\n",
    "    \n",
    "    Bx0 = -d*fx0+fx1\n",
    "    Bx1 = fx0-c*fx1\n",
    "    YNum = math.pow(y0, 1.0-a)\n",
    "    YDenom = YNum + math.pow(y1,1.0-a)*math.exp(b*(Bx1-Bx0))\n",
    "    fy0 = YNum / YDenom\n",
    "    return [fx0, fy0]"
   ]
  },
  {
   "cell_type": "code",
   "execution_count": 7,
   "metadata": {},
   "outputs": [],
   "source": [
    "def EWA_Alternating(X, a=.18, b=1.41):\n",
    "    x0,y0 = X\n",
    "    x1, y1 = 1.0-x0, 1.0-y0\n",
    "    Y = np.array([y0, y1])\n",
    "    #Update x\n",
    "    XNum = math.pow(x0, 1.0-a)\n",
    "    XDenom = XNum + math.pow(x1,1.0-a)*math.exp(b*(np.dot(e1, np.dot(A, Y))-np.dot(e0,np.dot(A,Y))))\n",
    "    #Update y\n",
    "    fx0 = XNum / XDenom\n",
    "    fx1 = 1.0 - fx0\n",
    "    \n",
    "    FX = np.array([fx0, fx1])\n",
    "    YNum = math.pow(y0, 1.0-a)\n",
    "    YDenom = YNum + math.pow(y1,1.0-a)*math.exp(b*(np.dot(e1,np.dot(B,FX))-np.dot(e0,np.dot(B,FX))))\n",
    "    fy0 = YNum / YDenom\n",
    "    return [fx0, fy0]"
   ]
  },
  {
   "cell_type": "code",
   "execution_count": 8,
   "metadata": {},
   "outputs": [],
   "source": [
    "def EWA_Alt(X, a=.18, b=1.41):\n",
    "    x0,y0 = X\n",
    "    x1, y1 = 1.0-x0, 1.0-y0\n",
    "    a11, a12, a21, a22 = d, -1.0, -1.0, c\n",
    "    b11, b12, b21, b22 = -d, 1.0, 1.0, -c\n",
    "    Ay0 = a11*y0+a12*y1\n",
    "    Ay1 = a21*y0+a22*y1\n",
    "    #Update x\n",
    "    XNum = math.pow(x0, 1.0-a)\n",
    "    XDenom = XNum + math.pow(x1,1.0-a)*math.exp(b*(Ay1-Ay0))\n",
    "    #Update y\n",
    "    fx0 = XNum / XDenom\n",
    "    \n",
    "    fx1 = 1.0 - fx0\n",
    "    Bx0 = b11*fx0+b12*fx1\n",
    "    Bx1 = b21*fx0+b22*fx1\n",
    "    YNum = math.pow(y0, 1.0-a)\n",
    "    YDenom = YNum + math.pow(y1,1.0-a)*math.exp(b*(Bx1-Bx0))\n",
    "    fy0 = YNum / YDenom\n",
    "    return [fx0, fy0]"
   ]
  },
  {
   "cell_type": "code",
   "execution_count": 9,
   "metadata": {},
   "outputs": [],
   "source": [
    "N = 350"
   ]
  },
  {
   "cell_type": "code",
   "execution_count": 10,
   "metadata": {},
   "outputs": [],
   "source": [
    "init = [.3,.3]\n",
    "traj = [init]\n",
    "X = init\n",
    "for i in range(0,N):\n",
    "    X = EWA_Alt(X,a,b)\n",
    "    traj . append ( X )\n",
    "traj = traj[200:]"
   ]
  },
  {
   "cell_type": "code",
   "execution_count": 11,
   "metadata": {},
   "outputs": [],
   "source": [
    "x0,y0 = 0.3, 0.3\n",
    "x1,y1 = 1.0-x0, 1.0-y0"
   ]
  },
  {
   "cell_type": "code",
   "execution_count": 12,
   "metadata": {},
   "outputs": [
    {
     "name": "stdout",
     "output_type": "stream",
     "text": [
      "0.3 0.3\n",
      "0.7 0.7\n"
     ]
    }
   ],
   "source": [
    "print(x0,y0)\n",
    "print(x1,y1)"
   ]
  },
  {
   "cell_type": "code",
   "execution_count": 13,
   "metadata": {},
   "outputs": [
    {
     "name": "stdout",
     "output_type": "stream",
     "text": [
      "-0.39999999999999997 1.0999999999999999\n"
     ]
    }
   ],
   "source": [
    "a11, a12, a21, a22 = d, -1.0, -1.0, c\n",
    "b11, b12, b21, b22 = -d, 1.0, 1.0, -c\n",
    "Ay0 = a11*y0+a12*y1\n",
    "Ay1 = a21*y0+a22*y1\n",
    "print(Ay0, Ay1)"
   ]
  },
  {
   "cell_type": "code",
   "execution_count": 14,
   "metadata": {},
   "outputs": [
    {
     "name": "stdout",
     "output_type": "stream",
     "text": [
      "-0.39999999999999997 1.0999999999999999\n"
     ]
    }
   ],
   "source": [
    "Y = np.array([y0, y1])\n",
    "print(np.dot(e0,np.dot(A,Y)), np.dot(e1, np.dot(A, Y)))"
   ]
  },
  {
   "cell_type": "code",
   "execution_count": 15,
   "metadata": {},
   "outputs": [
    {
     "data": {
      "text/plain": [
       "array([[ 1., -1.],\n",
       "       [-1.,  2.]])"
      ]
     },
     "execution_count": 15,
     "metadata": {},
     "output_type": "execute_result"
    }
   ],
   "source": [
    "A"
   ]
  },
  {
   "cell_type": "code",
   "execution_count": 16,
   "metadata": {},
   "outputs": [
    {
     "data": {
      "text/plain": [
       "(1.0, -1.0)"
      ]
     },
     "execution_count": 16,
     "metadata": {},
     "output_type": "execute_result"
    }
   ],
   "source": [
    "a11, a12"
   ]
  },
  {
   "cell_type": "code",
   "execution_count": 17,
   "metadata": {},
   "outputs": [
    {
     "name": "stdout",
     "output_type": "stream",
     "text": [
      "[0.5886701884315262, 0.609152443944444]\n",
      "[0.5886701884315262, 0.609152443944444]\n",
      "[0.5886701884315262, 0.609152443944444]\n"
     ]
    }
   ],
   "source": [
    "print(EWA_Alt ( X, a, b))\n",
    "print(EWA_Alternating (X, a, b))\n",
    "print(EWA_Alt_Hardcode( X, a, b))"
   ]
  },
  {
   "cell_type": "code",
   "execution_count": null,
   "metadata": {},
   "outputs": [],
   "source": []
  },
  {
   "cell_type": "code",
   "execution_count": 18,
   "metadata": {},
   "outputs": [],
   "source": [
    "# init = [.3,.3]\n",
    "# traj1 = [init]\n",
    "# X = init\n",
    "# for i in range(0,N):\n",
    "#     X = EWA_Alt(X,a,b)\n",
    "#     traj1 . append ( X )\n",
    "# traj1 = traj1[100:]"
   ]
  },
  {
   "cell_type": "code",
   "execution_count": 19,
   "metadata": {},
   "outputs": [],
   "source": [
    "x,y = zip(*traj)"
   ]
  },
  {
   "cell_type": "code",
   "execution_count": 20,
   "metadata": {},
   "outputs": [],
   "source": [
    "#x1,y1 = zip(*traj1)"
   ]
  },
  {
   "cell_type": "code",
   "execution_count": 21,
   "metadata": {},
   "outputs": [
    {
     "data": {
      "text/plain": [
       "<matplotlib.collections.PathCollection at 0x7f9cac1daa90>"
      ]
     },
     "execution_count": 21,
     "metadata": {},
     "output_type": "execute_result"
    },
    {
     "data": {
      "image/png": "[encoded data removed]",
      "text/plain": [
       "<Figure size 432x288 with 1 Axes>"
      ]
     },
     "metadata": {
      "needs_background": "light"
     },
     "output_type": "display_data"
    }
   ],
   "source": [
    "plt.xlim(0, 1)\n",
    "plt.ylim(0, 1)\n",
    "plt.scatter(x,y)\n",
    "#plt.scatter(x1,y1)"
   ]
  },
  {
   "cell_type": "code",
   "execution_count": 22,
   "metadata": {},
   "outputs": [
    {
     "data": {
      "text/plain": [
       "[<matplotlib.lines.Line2D at 0x7f9cac327090>,\n",
       " <matplotlib.lines.Line2D at 0x7f9cac327310>]"
      ]
     },
     "execution_count": 22,
     "metadata": {},
     "output_type": "execute_result"
    },
    {
     "data": {
      "image/png": "[encoded data removed]",
      "text/plain": [
       "<Figure size 432x288 with 1 Axes>"
      ]
     },
     "metadata": {
      "needs_background": "light"
     },
     "output_type": "display_data"
    }
   ],
   "source": [
    "plt.plot(x, 'b', y, 'r')"
   ]
  },
  {
   "cell_type": "code",
   "execution_count": 23,
   "metadata": {},
   "outputs": [
    {
     "data": {
      "text/plain": [
       "5"
      ]
     },
     "execution_count": 23,
     "metadata": {},
     "output_type": "execute_result"
    }
   ],
   "source": [
    "len(set(x))"
   ]
  },
  {
   "cell_type": "code",
   "execution_count": 24,
   "metadata": {},
   "outputs": [
    {
     "data": {
      "text/plain": [
       "4"
      ]
     },
     "execution_count": 24,
     "metadata": {},
     "output_type": "execute_result"
    }
   ],
   "source": [
    "len(set(y))"
   ]
  },
  {
   "cell_type": "code",
   "execution_count": 25,
   "metadata": {},
   "outputs": [
    {
     "data": {
      "text/plain": [
       "5"
      ]
     },
     "execution_count": 25,
     "metadata": {},
     "output_type": "execute_result"
    }
   ],
   "source": [
    "len(set(x))"
   ]
  },
  {
   "cell_type": "code",
   "execution_count": 26,
   "metadata": {},
   "outputs": [
    {
     "data": {
      "text/plain": [
       "(0.5886701884315261,\n",
       " 0.5886701884315262,\n",
       " 0.5886701884315263,\n",
       " 0.5886701884315257,\n",
       " 0.5886701884315264,\n",
       " 0.5886701884315262,\n",
       " 0.5886701884315261,\n",
       " 0.5886701884315262,\n",
       " 0.5886701884315263,\n",
       " 0.5886701884315257,\n",
       " 0.5886701884315264,\n",
       " 0.5886701884315262,\n",
       " 0.5886701884315261,\n",
       " 0.5886701884315262,\n",
       " 0.5886701884315263,\n",
       " 0.5886701884315257,\n",
       " 0.5886701884315264,\n",
       " 0.5886701884315262,\n",
       " 0.5886701884315261,\n",
       " 0.5886701884315262,\n",
       " 0.5886701884315263,\n",
       " 0.5886701884315257,\n",
       " 0.5886701884315264,\n",
       " 0.5886701884315262,\n",
       " 0.5886701884315261,\n",
       " 0.5886701884315262,\n",
       " 0.5886701884315263,\n",
       " 0.5886701884315257,\n",
       " 0.5886701884315264,\n",
       " 0.5886701884315262,\n",
       " 0.5886701884315261,\n",
       " 0.5886701884315262,\n",
       " 0.5886701884315263,\n",
       " 0.5886701884315257,\n",
       " 0.5886701884315264,\n",
       " 0.5886701884315262,\n",
       " 0.5886701884315261,\n",
       " 0.5886701884315262,\n",
       " 0.5886701884315263,\n",
       " 0.5886701884315257,\n",
       " 0.5886701884315264,\n",
       " 0.5886701884315262,\n",
       " 0.5886701884315261,\n",
       " 0.5886701884315262,\n",
       " 0.5886701884315263,\n",
       " 0.5886701884315257,\n",
       " 0.5886701884315264,\n",
       " 0.5886701884315262,\n",
       " 0.5886701884315261,\n",
       " 0.5886701884315262,\n",
       " 0.5886701884315263,\n",
       " 0.5886701884315257,\n",
       " 0.5886701884315264,\n",
       " 0.5886701884315262,\n",
       " 0.5886701884315261,\n",
       " 0.5886701884315262,\n",
       " 0.5886701884315263,\n",
       " 0.5886701884315257,\n",
       " 0.5886701884315264,\n",
       " 0.5886701884315262,\n",
       " 0.5886701884315261,\n",
       " 0.5886701884315262,\n",
       " 0.5886701884315263,\n",
       " 0.5886701884315257,\n",
       " 0.5886701884315264,\n",
       " 0.5886701884315262,\n",
       " 0.5886701884315261,\n",
       " 0.5886701884315262,\n",
       " 0.5886701884315263,\n",
       " 0.5886701884315257,\n",
       " 0.5886701884315264,\n",
       " 0.5886701884315262,\n",
       " 0.5886701884315261,\n",
       " 0.5886701884315262,\n",
       " 0.5886701884315263,\n",
       " 0.5886701884315257,\n",
       " 0.5886701884315264,\n",
       " 0.5886701884315262,\n",
       " 0.5886701884315261,\n",
       " 0.5886701884315262,\n",
       " 0.5886701884315263,\n",
       " 0.5886701884315257,\n",
       " 0.5886701884315264,\n",
       " 0.5886701884315262,\n",
       " 0.5886701884315261,\n",
       " 0.5886701884315262,\n",
       " 0.5886701884315263,\n",
       " 0.5886701884315257,\n",
       " 0.5886701884315264,\n",
       " 0.5886701884315262,\n",
       " 0.5886701884315261,\n",
       " 0.5886701884315262,\n",
       " 0.5886701884315263,\n",
       " 0.5886701884315257,\n",
       " 0.5886701884315264,\n",
       " 0.5886701884315262,\n",
       " 0.5886701884315261,\n",
       " 0.5886701884315262,\n",
       " 0.5886701884315263,\n",
       " 0.5886701884315257,\n",
       " 0.5886701884315264,\n",
       " 0.5886701884315262,\n",
       " 0.5886701884315261,\n",
       " 0.5886701884315262,\n",
       " 0.5886701884315263,\n",
       " 0.5886701884315257,\n",
       " 0.5886701884315264,\n",
       " 0.5886701884315262,\n",
       " 0.5886701884315261,\n",
       " 0.5886701884315262,\n",
       " 0.5886701884315263,\n",
       " 0.5886701884315257,\n",
       " 0.5886701884315264,\n",
       " 0.5886701884315262,\n",
       " 0.5886701884315261,\n",
       " 0.5886701884315262,\n",
       " 0.5886701884315263,\n",
       " 0.5886701884315257,\n",
       " 0.5886701884315264,\n",
       " 0.5886701884315262,\n",
       " 0.5886701884315261,\n",
       " 0.5886701884315262,\n",
       " 0.5886701884315263,\n",
       " 0.5886701884315257,\n",
       " 0.5886701884315264,\n",
       " 0.5886701884315262,\n",
       " 0.5886701884315261,\n",
       " 0.5886701884315262,\n",
       " 0.5886701884315263,\n",
       " 0.5886701884315257,\n",
       " 0.5886701884315264,\n",
       " 0.5886701884315262,\n",
       " 0.5886701884315261,\n",
       " 0.5886701884315262,\n",
       " 0.5886701884315263,\n",
       " 0.5886701884315257,\n",
       " 0.5886701884315264,\n",
       " 0.5886701884315262,\n",
       " 0.5886701884315261,\n",
       " 0.5886701884315262,\n",
       " 0.5886701884315263,\n",
       " 0.5886701884315257,\n",
       " 0.5886701884315264,\n",
       " 0.5886701884315262,\n",
       " 0.5886701884315261,\n",
       " 0.5886701884315262,\n",
       " 0.5886701884315263,\n",
       " 0.5886701884315257,\n",
       " 0.5886701884315264,\n",
       " 0.5886701884315262,\n",
       " 0.5886701884315261)"
      ]
     },
     "execution_count": 26,
     "metadata": {},
     "output_type": "execute_result"
    }
   ],
   "source": [
    "x"
   ]
  },
  {
   "cell_type": "code",
   "execution_count": null,
   "metadata": {},
   "outputs": [],
   "source": []
  }
 ],
 "metadata": {
  "kernelspec": {
   "display_name": "Python 3",
   "language": "python",
   "name": "python3"
  },
  "language_info": {
   "codemirror_mode": {
    "name": "ipython",
    "version": 3
   },
   "file_extension": ".py",
   "mimetype": "text/x-python",
   "name": "python",
   "nbconvert_exporter": "python",
   "pygments_lexer": "ipython3",
   "version": "3.7.6"
  }
 },
 "nbformat": 4,
 "nbformat_minor": 4
}
