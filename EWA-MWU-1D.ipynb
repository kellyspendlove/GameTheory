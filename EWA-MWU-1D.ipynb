{
 "cells": [
  {
   "cell_type": "code",
   "execution_count": 1,
   "metadata": {},
   "outputs": [],
   "source": [
    "#Notebook to run some computations of 1-D EWA and MWU"
   ]
  },
  {
   "cell_type": "code",
   "execution_count": 2,
   "metadata": {},
   "outputs": [],
   "source": [
    "import numpy as np\n",
    "import math\n",
    "import matplotlib.pyplot as plt\n",
    "import matplotlib.cm as cm"
   ]
  },
  {
   "cell_type": "code",
   "execution_count": 3,
   "metadata": {},
   "outputs": [],
   "source": [
    "def MWU( X, a=20, b=0.61 ):\n",
    "    return X / (X + (1.0-X)*math.exp(a*(X-b)))\n",
    "def EWA ( X, alpha = 0.18, beta = 20, c=.6):\n",
    "    return pow(X, 1.0-alpha) / (pow(X,1.0-alpha) + pow(1.0-X,1.0-alpha)*math.exp(beta*(X-c)))"
   ]
  },
  {
   "cell_type": "code",
   "execution_count": 956,
   "metadata": {},
   "outputs": [],
   "source": [
    "init = .1\n",
    "#a = 24.9\n",
    "#b = 0.61\n",
    "#.525, beta = 17, c = 0.8\n",
    "N = 10000\n",
    "alpha,beta,c = 0.525, 17.00, .8"
   ]
  },
  {
   "cell_type": "code",
   "execution_count": 957,
   "metadata": {},
   "outputs": [],
   "source": [
    "inits = np.linspace(0,1,200)[1:-1]"
   ]
  },
  {
   "cell_type": "code",
   "execution_count": 958,
   "metadata": {},
   "outputs": [],
   "source": [
    "att = set()\n",
    "for init in inits:\n",
    "    traj = [init]\n",
    "    X = init\n",
    "    for i in range(N):\n",
    "        X = EWA ( X, alpha,beta,c )\n",
    "        traj . append ( X )\n",
    "    traj = traj[-100:]\n",
    "    M = len(set(traj))\n",
    "    if M < 100:\n",
    "        att . add ( (traj[0], M) )"
   ]
  },
  {
   "cell_type": "code",
   "execution_count": 959,
   "metadata": {},
   "outputs": [
    {
     "data": {
      "text/plain": [
       "{(0.224563217149413, 10),\n",
       " (0.30348665867791724, 10),\n",
       " (0.4923426556823246, 10),\n",
       " (0.6052410526058901, 10),\n",
       " (0.7248742911502428, 10),\n",
       " (0.8503441548354509, 10),\n",
       " (0.9710805225868261, 10),\n",
       " (0.9945982975468686, 10),\n",
       " (0.9996797604272643, 10),\n",
       " (0.9998983397414309, 10)}"
      ]
     },
     "execution_count": 959,
     "metadata": {},
     "output_type": "execute_result"
    }
   ],
   "source": [
    "att"
   ]
  },
  {
   "cell_type": "code",
   "execution_count": 960,
   "metadata": {},
   "outputs": [],
   "source": [
    "init = 0.99\n",
    "traj = [init]\n",
    "X = init\n",
    "for i in range(1000000):\n",
    "    #X = MWU ( X, beta, c)\n",
    "    X = EWA (X,alpha,beta,c)\n",
    "    traj . append (X)"
   ]
  },
  {
   "cell_type": "code",
   "execution_count": 961,
   "metadata": {},
   "outputs": [
    {
     "data": {
      "text/plain": [
       "10"
      ]
     },
     "execution_count": 961,
     "metadata": {},
     "output_type": "execute_result"
    }
   ],
   "source": [
    "len(set(traj[-200:]))"
   ]
  },
  {
   "cell_type": "code",
   "execution_count": 964,
   "metadata": {},
   "outputs": [
    {
     "data": {
      "text/plain": [
       "[<matplotlib.lines.Line2D at 0x7fad8cea30d0>]"
      ]
     },
     "execution_count": 964,
     "metadata": {},
     "output_type": "execute_result"
    },
    {
     "data": {
      "image/png": "[encoded data removed]",
      "text/plain": [
       "<Figure size 432x288 with 1 Axes>"
      ]
     },
     "metadata": {
      "needs_background": "light"
     },
     "output_type": "display_data"
    }
   ],
   "source": [
    "plt.plot(traj[-10:])"
   ]
  },
  {
   "cell_type": "code",
   "execution_count": 963,
   "metadata": {},
   "outputs": [
    {
     "data": {
      "text/plain": [
       "{0.224563217149413,\n",
       " 0.30348665867791724,\n",
       " 0.4923426556823246,\n",
       " 0.6052410526058901,\n",
       " 0.7248742911502428,\n",
       " 0.8503441548354509,\n",
       " 0.9710805225868261,\n",
       " 0.9945982975468686,\n",
       " 0.9996797604272643,\n",
       " 0.9998983397414309}"
      ]
     },
     "execution_count": 963,
     "metadata": {},
     "output_type": "execute_result"
    }
   ],
   "source": [
    "set(traj[-200:])"
   ]
  },
  {
   "cell_type": "code",
   "execution_count": 952,
   "metadata": {},
   "outputs": [
    {
     "data": {
      "text/plain": [
       "60"
      ]
     },
     "execution_count": 952,
     "metadata": {},
     "output_type": "execute_result"
    }
   ],
   "source": [
    "len(set(traj[-200:]))"
   ]
  },
  {
   "cell_type": "code",
   "execution_count": 953,
   "metadata": {},
   "outputs": [
    {
     "data": {
      "text/plain": [
       "4.76837158203125e-07"
      ]
     },
     "execution_count": 953,
     "metadata": {},
     "output_type": "execute_result"
    }
   ],
   "source": [
    "1 / math.pow(2,21)"
   ]
  },
  {
   "cell_type": "code",
   "execution_count": 954,
   "metadata": {},
   "outputs": [
    {
     "data": {
      "text/plain": [
       "5.4187482386724994e-06"
      ]
     },
     "execution_count": 954,
     "metadata": {},
     "output_type": "execute_result"
    }
   ],
   "source": [
    " 0.9999365742533943 - 0.9999311555051557"
   ]
  },
  {
   "cell_type": "code",
   "execution_count": null,
   "metadata": {},
   "outputs": [],
   "source": []
  },
  {
   "cell_type": "code",
   "execution_count": null,
   "metadata": {},
   "outputs": [],
   "source": []
  },
  {
   "cell_type": "code",
   "execution_count": null,
   "metadata": {},
   "outputs": [],
   "source": []
  }
 ],
 "metadata": {
  "kernelspec": {
   "display_name": "Python 3",
   "language": "python",
   "name": "python3"
  },
  "language_info": {
   "codemirror_mode": {
    "name": "ipython",
    "version": 3
   },
   "file_extension": ".py",
   "mimetype": "text/x-python",
   "name": "python",
   "nbconvert_exporter": "python",
   "pygments_lexer": "ipython3",
   "version": "3.7.6"
  }
 },
 "nbformat": 4,
 "nbformat_minor": 4
}
